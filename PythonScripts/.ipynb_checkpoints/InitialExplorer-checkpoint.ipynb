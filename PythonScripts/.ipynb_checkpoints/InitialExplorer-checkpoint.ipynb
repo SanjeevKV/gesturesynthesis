{
 "cells": [
  {
   "cell_type": "markdown",
   "metadata": {},
   "source": [
    "#### Importing the necessary libraries"
   ]
  },
  {
   "cell_type": "code",
   "execution_count": 32,
   "metadata": {
    "ExecuteTime": {
     "end_time": "2019-03-26T03:09:14.410447Z",
     "start_time": "2019-03-26T03:09:14.407384Z"
    }
   },
   "outputs": [],
   "source": [
    "from scipy.io import loadmat, wavfile\n",
    "import math\n",
    "from python_speech_features import mfcc, logfbank\n",
    "import numpy as np"
   ]
  },
  {
   "cell_type": "markdown",
   "metadata": {},
   "source": [
    "#### Reading coordinates, audio and delay"
   ]
  },
  {
   "cell_type": "markdown",
   "metadata": {},
   "source": [
    "Positive delay impliess the audio signal is ahead of coordinates (Microphone has started before the mocap) <br>\n",
    "Sampling rates:\n",
    "Coordinates = 120 Hz\n",
    "Audio = 16000 Hz <br>\n",
    "As a result, every coordinate sample corresponds to approximately 133.33 audio samples - We would be grouping the audio samples as (133,133,134) for every 3 coordinate samples"
   ]
  },
  {
   "cell_type": "code",
   "execution_count": 2,
   "metadata": {
    "ExecuteTime": {
     "end_time": "2019-03-26T02:37:43.459077Z",
     "start_time": "2019-03-26T02:37:43.456083Z"
    }
   },
   "outputs": [],
   "source": [
    "CoordinatesFilePath = '/home/sanjeev/Documents/HeadMotionData/Telugu/Aravind/Coordinates/2016-06-08_18-11-50_Aravind_Story1En.mat'\n",
    "WavFilePath = '/home/sanjeev/Documents/HeadMotionData/Telugu/Aravind/Audio/2016-06-08_18-11-50_Aravind_Story1En.wav'\n",
    "DelayFilePath = '/home/sanjeev/Documents/HeadMotionData/Telugu/Aravind/Delay/2016-06-08_18-11-50_Aravind_Story1En.txt'\n",
    "coordinatesKey = 'markerData'\n",
    "cfs = 120 #Coordinate sampling rate - 120 Hz"
   ]
  },
  {
   "cell_type": "code",
   "execution_count": 3,
   "metadata": {
    "ExecuteTime": {
     "end_time": "2019-03-26T02:37:43.587383Z",
     "start_time": "2019-03-26T02:37:43.460829Z"
    }
   },
   "outputs": [],
   "source": [
    "coordinates = loadmat(CoordinatesFilePath)[coordinatesKey][0]\n",
    "fs, speech = wavfile.read(WavFilePath)\n",
    "fp = open(DelayFilePath,'r')\n",
    "delay = float(fp.read())\n",
    "fp.close()\n",
    "length_coordinates = len(coordinates[1])"
   ]
  },
  {
   "cell_type": "code",
   "execution_count": 4,
   "metadata": {
    "ExecuteTime": {
     "end_time": "2019-03-26T02:37:43.652643Z",
     "start_time": "2019-03-26T02:37:43.588880Z"
    }
   },
   "outputs": [],
   "source": [
    "def speech_left_truncate(speech, delay, fs):\n",
    "    return speech[math.floor(delay * fs):]\n",
    "\n",
    "def speech_right_truncate_with_chunks(speech_left_truncated, fs, cfs, length_coordinates):\n",
    "    speech_chunks = []\n",
    "    sampling_diff_ratio = fs / cfs\n",
    "    j = 0\n",
    "    for i in range(length_coordinates):\n",
    "        current_chunk_speech = speech_left_truncated[round(j):round(j + sampling_diff_ratio)]\n",
    "        speech_chunks.append(current_chunk_speech)\n",
    "        j += sampling_diff_ratio\n",
    "    return speech_chunks\n",
    "\n",
    "def equalize_duration(speech, delay, fs, cfs, length_coordinates):\n",
    "    speech_left_truncated = speech_left_truncate(speech, delay, fs)\n",
    "    speech_equal_duration_with_chunks = speech_right_truncate_with_chunks(speech_left_truncated, fs, cfs, length_coordinates)\n",
    "    return speech_equal_duration_with_chunks\n"
   ]
  },
  {
   "cell_type": "code",
   "execution_count": 29,
   "metadata": {
    "ExecuteTime": {
     "end_time": "2019-03-26T03:08:06.584892Z",
     "start_time": "2019-03-26T03:08:06.570565Z"
    }
   },
   "outputs": [],
   "source": [
    "def get_mfcc_for_chunk(chunk, **kwargs):\n",
    "    return mfcc(chunk, winlen = 1 / kwargs['cfs'])\n",
    "\n",
    "def get_logfbank_for_chunk(chunk, **kwargs):\n",
    "    return logfbank(chunk, winlen = 1 / kwargs['cfs'])\n",
    "\n",
    "def get_metric_for_speech(equalized_duration_chunks, get_metric_for_chunk, **kwargs):\n",
    "    #speech_equal_duration_with_chunks = equalize_duration(speech, delay, fs, cfs, length_coordinates)\n",
    "    return list(map(lambda chunk : get_metric_for_chunk(chunk,**kwargs), equalized_duration_chunks))\n",
    "    "
   ]
  },
  {
   "cell_type": "code",
   "execution_count": 30,
   "metadata": {
    "ExecuteTime": {
     "end_time": "2019-03-26T03:08:11.023274Z",
     "start_time": "2019-03-26T03:08:10.997967Z"
    }
   },
   "outputs": [],
   "source": [
    "equalized_duration_chunks = equalize_duration(speech, delay, fs, cfs, length_coordinates)"
   ]
  },
  {
   "cell_type": "code",
   "execution_count": 34,
   "metadata": {
    "ExecuteTime": {
     "end_time": "2019-03-26T03:10:27.570661Z",
     "start_time": "2019-03-26T03:10:07.075129Z"
    }
   },
   "outputs": [],
   "source": [
    "equalized_duration_chunks_mfcc = get_metric_for_speech(equalized_duration_chunks, get_mfcc_for_chunk, cfs = 0.5 * cfs)"
   ]
  },
  {
   "cell_type": "code",
   "execution_count": 33,
   "metadata": {
    "ExecuteTime": {
     "end_time": "2019-03-26T03:09:57.858017Z",
     "start_time": "2019-03-26T03:09:38.916502Z"
    }
   },
   "outputs": [],
   "source": [
    "equalized_duration_chunks_logfbank = get_metric_for_speech(equalized_duration_chunks, get_logfbank_for_chunk, cfs = 0.5 * cfs)"
   ]
  },
  {
   "cell_type": "code",
   "execution_count": 36,
   "metadata": {
    "ExecuteTime": {
     "end_time": "2019-03-26T03:10:44.073759Z",
     "start_time": "2019-03-26T03:10:44.069948Z"
    }
   },
   "outputs": [
    {
     "data": {
      "text/plain": [
       "array([[-5.18334282, -3.08495805, -1.32539331, -1.21075529, -0.18373044,\n",
       "         0.31158851, -0.02141817,  0.60395817,  1.14585222,  0.76320528,\n",
       "         0.96833071,  1.36764742,  1.3694442 ,  0.94127635,  1.66248484,\n",
       "         2.73664949,  3.20960251,  2.82078309,  3.79194531,  4.28466418,\n",
       "         4.15047943,  3.95029755,  4.30992953,  4.13173659,  4.37648983,\n",
       "         3.0646974 ]])"
      ]
     },
     "execution_count": 36,
     "metadata": {},
     "output_type": "execute_result"
    }
   ],
   "source": [
    "equalized_duration_chunks_logfbank[2]"
   ]
  },
  {
   "cell_type": "code",
   "execution_count": null,
   "metadata": {},
   "outputs": [],
   "source": []
  }
 ],
 "metadata": {
  "kernelspec": {
   "display_name": "Python [explore]",
   "language": "python",
   "name": "explore"
  },
  "language_info": {
   "codemirror_mode": {
    "name": "ipython",
    "version": 3
   },
   "file_extension": ".py",
   "mimetype": "text/x-python",
   "name": "python",
   "nbconvert_exporter": "python",
   "pygments_lexer": "ipython3",
   "version": "3.6.0"
  }
 },
 "nbformat": 4,
 "nbformat_minor": 2
}
